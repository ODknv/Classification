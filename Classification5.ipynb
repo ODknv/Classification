{
 "cells": [
  {
   "cell_type": "code",
   "execution_count": 7,
   "id": "20aed747",
   "metadata": {},
   "outputs": [],
   "source": [
    "import pandas as pd\n",
    "import numpy as np\n",
    "\n",
    "\n",
    "import matplotlib.pyplot as plt\n",
    "\n",
    "\n",
    "from sklearn.model_selection import train_test_split\n",
    "from sklearn.preprocessing import StandardScaler\n",
    "from sklearn.linear_model import LogisticRegression\n",
    "from sklearn.tree import DecisionTreeClassifier\n",
    "from sklearn.ensemble import RandomForestClassifier\n",
    "from sklearn.svm import SVC\n",
    "from sklearn.neighbors import KNeighborsClassifier\n",
    "from sklearn.metrics import accuracy_score, classification_report"
   ]
  },
  {
   "cell_type": "code",
   "execution_count": 3,
   "id": "e8b6c488",
   "metadata": {},
   "outputs": [
    {
     "data": {
      "text/html": [
       "<div>\n",
       "<style scoped>\n",
       "    .dataframe tbody tr th:only-of-type {\n",
       "        vertical-align: middle;\n",
       "    }\n",
       "\n",
       "    .dataframe tbody tr th {\n",
       "        vertical-align: top;\n",
       "    }\n",
       "\n",
       "    .dataframe thead th {\n",
       "        text-align: right;\n",
       "    }\n",
       "</style>\n",
       "<table border=\"1\" class=\"dataframe\">\n",
       "  <thead>\n",
       "    <tr style=\"text-align: right;\">\n",
       "      <th></th>\n",
       "      <th>A1</th>\n",
       "      <th>A2</th>\n",
       "      <th>A3</th>\n",
       "      <th>A4</th>\n",
       "      <th>Target</th>\n",
       "    </tr>\n",
       "  </thead>\n",
       "  <tbody>\n",
       "    <tr>\n",
       "      <th>0</th>\n",
       "      <td>0.374540</td>\n",
       "      <td>0.950714</td>\n",
       "      <td>0.731994</td>\n",
       "      <td>0.598658</td>\n",
       "      <td>yes</td>\n",
       "    </tr>\n",
       "    <tr>\n",
       "      <th>1</th>\n",
       "      <td>0.156019</td>\n",
       "      <td>0.155995</td>\n",
       "      <td>0.058084</td>\n",
       "      <td>0.866176</td>\n",
       "      <td>no</td>\n",
       "    </tr>\n",
       "    <tr>\n",
       "      <th>2</th>\n",
       "      <td>0.601115</td>\n",
       "      <td>0.708073</td>\n",
       "      <td>0.020584</td>\n",
       "      <td>0.969910</td>\n",
       "      <td>no</td>\n",
       "    </tr>\n",
       "    <tr>\n",
       "      <th>3</th>\n",
       "      <td>0.832443</td>\n",
       "      <td>0.212339</td>\n",
       "      <td>0.181825</td>\n",
       "      <td>0.183405</td>\n",
       "      <td>yes</td>\n",
       "    </tr>\n",
       "    <tr>\n",
       "      <th>4</th>\n",
       "      <td>0.304242</td>\n",
       "      <td>0.524756</td>\n",
       "      <td>0.431945</td>\n",
       "      <td>0.291229</td>\n",
       "      <td>yes</td>\n",
       "    </tr>\n",
       "  </tbody>\n",
       "</table>\n",
       "</div>"
      ],
      "text/plain": [
       "         A1        A2        A3        A4 Target\n",
       "0  0.374540  0.950714  0.731994  0.598658    yes\n",
       "1  0.156019  0.155995  0.058084  0.866176     no\n",
       "2  0.601115  0.708073  0.020584  0.969910     no\n",
       "3  0.832443  0.212339  0.181825  0.183405    yes\n",
       "4  0.304242  0.524756  0.431945  0.291229    yes"
      ]
     },
     "metadata": {},
     "output_type": "display_data"
    },
    {
     "name": "stdout",
     "output_type": "stream",
     "text": [
      "<class 'pandas.core.frame.DataFrame'>\n",
      "RangeIndex: 1000 entries, 0 to 999\n",
      "Data columns (total 5 columns):\n",
      " #   Column  Non-Null Count  Dtype  \n",
      "---  ------  --------------  -----  \n",
      " 0   A1      1000 non-null   float64\n",
      " 1   A2      1000 non-null   float64\n",
      " 2   A3      1000 non-null   float64\n",
      " 3   A4      1000 non-null   float64\n",
      " 4   Target  1000 non-null   object \n",
      "dtypes: float64(4), object(1)\n",
      "memory usage: 39.2+ KB\n",
      "None\n"
     ]
    }
   ],
   "source": [
    "np.random.seed(42)\n",
    "\n",
    "df = pd.DataFrame(np.random.rand(1000, 4), columns=['A1', 'A2', 'A3', 'A4'])\n",
    "df['Target'] = np.random.choice(['yes', 'no'], size=1000, p=[0.7, 0.3])\n",
    "display(df.head())\n",
    "\n",
    "print(df.info())"
   ]
  },
  {
   "cell_type": "code",
   "execution_count": 5,
   "id": "49bc0560",
   "metadata": {},
   "outputs": [],
   "source": [
    "X = df.drop('Target', axis=1)\n",
    "Y = df['Target']\n"
   ]
  },
  {
   "cell_type": "code",
   "execution_count": 9,
   "id": "e8cbcb36",
   "metadata": {},
   "outputs": [],
   "source": [
    "# Split the data into training and testing sets\n",
    "X_train, X_test, y_train, y_test = train_test_split(X, Y, test_size=0.2, random_state=42)"
   ]
  },
  {
   "cell_type": "code",
   "execution_count": 10,
   "id": "26178618",
   "metadata": {},
   "outputs": [],
   "source": [
    "scaler = StandardScaler()\n",
    "X_train_scaled = scaler.fit_transform(X_train)\n",
    "X_test_scaled = scaler.transform(X_test)"
   ]
  },
  {
   "cell_type": "code",
   "execution_count": 19,
   "id": "7fa31af1",
   "metadata": {},
   "outputs": [],
   "source": [
    "def evaluate_model(model, X_train, X_test, y_train, y_test):\n",
    "    model.fit(X_train, y_train)\n",
    "    y_pred = model.predict(X_test)\n",
    "    accuracy = accuracy_score(y_test, y_pred)\n",
    "    print(f\"Accuracy: {accuracy:.2f}\")\n",
    "    print(\"Classification Report:\")\n",
    "    print(classification_report(y_test, y_pred, zero_division=0))"
   ]
  },
  {
   "cell_type": "code",
   "execution_count": 20,
   "id": "520e67e4",
   "metadata": {},
   "outputs": [
    {
     "name": "stdout",
     "output_type": "stream",
     "text": [
      "Logistic Regression:\n",
      "Accuracy: 0.67\n",
      "Classification Report:\n",
      "              precision    recall  f1-score   support\n",
      "\n",
      "          no       0.00      0.00      0.00        66\n",
      "         yes       0.67      1.00      0.80       134\n",
      "\n",
      "    accuracy                           0.67       200\n",
      "   macro avg       0.34      0.50      0.40       200\n",
      "weighted avg       0.45      0.67      0.54       200\n",
      "\n"
     ]
    }
   ],
   "source": [
    "# 1. Logistic Regression\n",
    "print(\"Logistic Regression:\")\n",
    "lr_model = LogisticRegression(random_state=42)\n",
    "evaluate_model(lr_model, X_train_scaled, X_test_scaled, y_train, y_test)"
   ]
  },
  {
   "cell_type": "code",
   "execution_count": 21,
   "id": "013d2b50",
   "metadata": {},
   "outputs": [
    {
     "name": "stdout",
     "output_type": "stream",
     "text": [
      "\n",
      "Decision Tree:\n",
      "Accuracy: 0.56\n",
      "Classification Report:\n",
      "              precision    recall  f1-score   support\n",
      "\n",
      "          no       0.32      0.29      0.30        66\n",
      "         yes       0.66      0.69      0.68       134\n",
      "\n",
      "    accuracy                           0.56       200\n",
      "   macro avg       0.49      0.49      0.49       200\n",
      "weighted avg       0.55      0.56      0.55       200\n",
      "\n"
     ]
    }
   ],
   "source": [
    "# 2. Decision Tree\n",
    "print(\"\\nDecision Tree:\")\n",
    "dt_model = DecisionTreeClassifier(random_state=42)\n",
    "evaluate_model(dt_model, X_train, X_test, y_train, y_test)"
   ]
  },
  {
   "cell_type": "code",
   "execution_count": 22,
   "id": "0d431b21",
   "metadata": {},
   "outputs": [
    {
     "name": "stdout",
     "output_type": "stream",
     "text": [
      "\n",
      "Random Forest:\n",
      "Accuracy: 0.63\n",
      "Classification Report:\n",
      "              precision    recall  f1-score   support\n",
      "\n",
      "          no       0.28      0.08      0.12        66\n",
      "         yes       0.66      0.90      0.77       134\n",
      "\n",
      "    accuracy                           0.63       200\n",
      "   macro avg       0.47      0.49      0.44       200\n",
      "weighted avg       0.54      0.63      0.55       200\n",
      "\n"
     ]
    }
   ],
   "source": [
    "# 3. Random Forest\n",
    "print(\"\\nRandom Forest:\")\n",
    "rf_model = RandomForestClassifier(random_state=42)\n",
    "evaluate_model(rf_model, X_train, X_test, y_train, y_test)"
   ]
  },
  {
   "cell_type": "code",
   "execution_count": 23,
   "id": "6db69018",
   "metadata": {},
   "outputs": [
    {
     "name": "stdout",
     "output_type": "stream",
     "text": [
      "\n",
      "Support Vector Machine:\n",
      "Accuracy: 0.67\n",
      "Classification Report:\n",
      "              precision    recall  f1-score   support\n",
      "\n",
      "          no       0.00      0.00      0.00        66\n",
      "         yes       0.67      1.00      0.80       134\n",
      "\n",
      "    accuracy                           0.67       200\n",
      "   macro avg       0.34      0.50      0.40       200\n",
      "weighted avg       0.45      0.67      0.54       200\n",
      "\n"
     ]
    }
   ],
   "source": [
    "# 4. Support Vector Machine (SVM)\n",
    "print(\"\\nSupport Vector Machine:\")\n",
    "svm_model = SVC(random_state=42)\n",
    "evaluate_model(svm_model, X_train_scaled, X_test_scaled, y_train, y_test)"
   ]
  },
  {
   "cell_type": "code",
   "execution_count": 24,
   "id": "5017790b",
   "metadata": {},
   "outputs": [
    {
     "name": "stdout",
     "output_type": "stream",
     "text": [
      "\n",
      "K-Nearest Neighbors:\n",
      "Accuracy: 0.59\n",
      "Classification Report:\n",
      "              precision    recall  f1-score   support\n",
      "\n",
      "          no       0.20      0.08      0.11        66\n",
      "         yes       0.65      0.85      0.74       134\n",
      "\n",
      "    accuracy                           0.59       200\n",
      "   macro avg       0.43      0.46      0.42       200\n",
      "weighted avg       0.50      0.59      0.53       200\n",
      "\n"
     ]
    }
   ],
   "source": [
    "# 5. K-Nearest Neighbors (KNN)\n",
    "print(\"\\nK-Nearest Neighbors:\")\n",
    "knn_model = KNeighborsClassifier()\n",
    "evaluate_model(knn_model, X_train_scaled, X_test_scaled, y_train, y_test)"
   ]
  },
  {
   "cell_type": "code",
   "execution_count": null,
   "id": "a3f7ed08",
   "metadata": {},
   "outputs": [],
   "source": []
  },
  {
   "cell_type": "code",
   "execution_count": null,
   "id": "27f9ad93",
   "metadata": {},
   "outputs": [],
   "source": []
  }
 ],
 "metadata": {
  "kernelspec": {
   "display_name": "Python 3 (ipykernel)",
   "language": "python",
   "name": "python3"
  },
  "language_info": {
   "codemirror_mode": {
    "name": "ipython",
    "version": 3
   },
   "file_extension": ".py",
   "mimetype": "text/x-python",
   "name": "python",
   "nbconvert_exporter": "python",
   "pygments_lexer": "ipython3",
   "version": "3.11.5"
  }
 },
 "nbformat": 4,
 "nbformat_minor": 5
}
